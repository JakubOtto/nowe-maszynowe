{
  "cells": [
    {
      "cell_type": "markdown",
      "metadata": {
        "id": "gcGm1KWUvUmO"
      },
      "source": [
        "**Perceptron**"
      ]
    },
    {
      "cell_type": "code",
      "execution_count": null,
      "metadata": {
        "id": "DvHFGm6DcbS9"
      },
      "outputs": [],
      "source": []
    },
    {
      "cell_type": "markdown",
      "metadata": {
        "id": "3FVCc3UPvSrK"
      },
      "source": [
        "$\\textbf{Steps}$:\n",
        "\n",
        "1. Initialize the weights. Weights may be initialized to $0$ or to a small random value. In the example below, we use $0$.\n",
        "\n",
        "2. For each example $j$ in our training set $D$, perform the following steps over the input $\\mathbf{x}_{j}$ and desired output $d_{j}$:\n",
        "\n",
        "$\\qquad$ (a) Calculate the actual output:\n",
        "\\begin{aligned}y_{j}(t)&=f[\\mathbf {w} (t)\\cdot \\mathbf {x} _{j}]\\\\&=f[w_{0}(t)x_{j,0}+w_{1}(t)x_{j,1}+w_{2}(t)x_{j,2}+\\ldots +w_{n}(t)x_{j,n}]\\end{aligned}\n",
        "\n",
        "$\\qquad$ (b) Update the weights:\n",
        "\\begin{aligned}\n",
        "w_i(t+1) = w_i(t) + \\lambda \\cdot (d_{j} - y_{j}(t)) \\cdot x_{j,i},\n",
        "\\end{aligned}\n",
        "$\\qquad$ for all features $0\\leq i \\leq n$ where $\\lambda$ is the learning rate.\n",
        "\n",
        "For offline learning, the second step may be repeated until the iteration error $\\frac {1}{s} \\sum_{j=1}^{s} \\vert d_{j}-y_{j}(t) \\vert$ is less than a user-specified error threshold $\\gamma$, or a predetermined number of iterations have been completed, where $s$ is the size of the sample set."
      ]
    },
    {
      "cell_type": "markdown",
      "metadata": {
        "id": "Gjoc5Uy1vRfP"
      },
      "source": []
    },
    {
      "cell_type": "code",
      "execution_count": null,
      "metadata": {
        "id": "DTthAeJDcoLl"
      },
      "outputs": [],
      "source": []
    },
    {
      "cell_type": "code",
      "execution_count": 28,
      "metadata": {
        "id": "Gf8jkpCJcoOn"
      },
      "outputs": [],
      "source": [
        "# importing Python library\n",
        "import numpy as np\n",
        "import random\n",
        "\n",
        "# define Unit Step Function\n",
        "def unitStep(v):\n",
        "    if v >= 0:\n",
        "        return 1\n",
        "    else:\n",
        "        return 0\n",
        "\n",
        "# design Perceptron Model\n",
        "def perceptronModel(x, w, b):\n",
        "    v = np.dot(w, x) + b\n",
        "    y = unitStep(v)\n",
        "    return y\n"
      ]
    },
    {
      "cell_type": "code",
      "execution_count": null,
      "metadata": {
        "id": "Q2G6Jx6CmCk4"
      },
      "outputs": [],
      "source": []
    },
    {
      "cell_type": "code",
      "execution_count": null,
      "metadata": {
        "id": "bqMeHyvKcoRR"
      },
      "outputs": [],
      "source": []
    },
    {
      "cell_type": "code",
      "execution_count": 29,
      "metadata": {
        "id": "6tJvpD2ZcoT4"
      },
      "outputs": [],
      "source": [
        "X=[[0,0],[0,1],[1,0],[1,1]]"
      ]
    },
    {
      "cell_type": "code",
      "execution_count": 30,
      "metadata": {
        "id": "7eBAzy0tcoaE"
      },
      "outputs": [],
      "source": [
        "#or\n",
        "augmented_X=[[0,0,0],[0,1,1],[1,0,1],[1,1,1]]"
      ]
    },
    {
      "cell_type": "code",
      "execution_count": 31,
      "metadata": {
        "colab": {
          "base_uri": "https://localhost:8080/"
        },
        "id": "aMXUYgDOcoed",
        "outputId": "03994b93-9848-4c33-9d16-446b30683603"
      },
      "outputs": [
        {
          "data": {
            "text/plain": [
              "0"
            ]
          },
          "execution_count": 31,
          "metadata": {},
          "output_type": "execute_result"
        }
      ],
      "source": [
        "#predykcja dla 0.1 - zła\n",
        "perceptronModel([0,1], [0.1,-0.5],-1)"
      ]
    },
    {
      "cell_type": "code",
      "execution_count": 32,
      "metadata": {
        "id": "JXfgHrq6coiG"
      },
      "outputs": [],
      "source": [
        "init_w=np.random.rand(2)\n",
        "init_b=random.random()"
      ]
    },
    {
      "cell_type": "code",
      "execution_count": 33,
      "metadata": {
        "colab": {
          "base_uri": "https://localhost:8080/"
        },
        "id": "sWdZeykncokM",
        "outputId": "15c0038c-ff20-4711-a061-e8015cb1f1d3"
      },
      "outputs": [
        {
          "name": "stdout",
          "output_type": "stream",
          "text": [
            "[0.22790720161960598, 0.5909818933250465]\n",
            "0.9715631631056703\n"
          ]
        }
      ],
      "source": [
        "print(list(init_w))\n",
        "print(init_b)"
      ]
    },
    {
      "cell_type": "code",
      "execution_count": 34,
      "metadata": {
        "colab": {
          "base_uri": "https://localhost:8080/"
        },
        "id": "KawvYzSqi0Fq",
        "outputId": "2a533d4b-38e5-4e7a-a78b-7ff1df7cabcd"
      },
      "outputs": [
        {
          "data": {
            "text/plain": [
              "1"
            ]
          },
          "execution_count": 34,
          "metadata": {},
          "output_type": "execute_result"
        }
      ],
      "source": [
        "perceptronModel(X[0], init_w, init_b)"
      ]
    },
    {
      "cell_type": "code",
      "execution_count": 35,
      "metadata": {
        "colab": {
          "base_uri": "https://localhost:8080/"
        },
        "id": "IcK41ry6col1",
        "outputId": "0eb7de09-0f17-4670-a9b6-2dae9d41495b"
      },
      "outputs": [
        {
          "name": "stdout",
          "output_type": "stream",
          "text": [
            "2\n",
            "2\n",
            "2\n",
            "2\n",
            "2\n",
            "1\n",
            "1\n",
            "1\n",
            "0\n",
            "0\n"
          ]
        }
      ],
      "source": [
        "#uczenie\n",
        "lr=0.1\n",
        "epochs=10\n",
        "weights=init_w #losowa inicjalizacja wag\n",
        "b=-1\n",
        "for epoch in range(epochs):\n",
        "  error_sum=0\n",
        "  for x in augmented_X:\n",
        "    y=perceptronModel(x[:-1], weights, -1)\n",
        "    error = x[-1] - y\n",
        "    error_sum+=np.abs(error)\n",
        "    new_weights=[]\n",
        "    for i in range(len(weights)): #update weights\n",
        "      new_weights.append(weights[i]+lr*error*x[i])\n",
        "    weights=new_weights\n",
        "  print(error_sum)"
      ]
    },
    {
      "cell_type": "code",
      "execution_count": 36,
      "metadata": {
        "colab": {
          "base_uri": "https://localhost:8080/"
        },
        "id": "q2dBEuTuoBEU",
        "outputId": "b2b9f2ad-e78a-45fe-c049-e423dc72ba60"
      },
      "outputs": [
        {
          "data": {
            "text/plain": [
              "[1.0279072016196058, 1.0909818933250464]"
            ]
          },
          "execution_count": 36,
          "metadata": {},
          "output_type": "execute_result"
        }
      ],
      "source": [
        "weights"
      ]
    },
    {
      "cell_type": "code",
      "execution_count": 37,
      "metadata": {
        "id": "b2PpeTqIpIQF"
      },
      "outputs": [],
      "source": [
        "def decision_boundary(x, weights):\n",
        "  #w1*x1 + w2*x2 - 1 = 0\n",
        "  #x2 = 1/w2 - (w1/w2) * x1\n",
        "  y = 1/weights[1] - (weights[0]/weights[1])*x\n",
        "  return y"
      ]
    },
    {
      "cell_type": "code",
      "execution_count": 38,
      "metadata": {
        "colab": {
          "base_uri": "https://localhost:8080/"
        },
        "id": "gaxX-fNw1p00",
        "outputId": "2387e0af-80d5-40bc-cf54-c97034c809dc"
      },
      "outputs": [
        {
          "data": {
            "text/plain": [
              "[1.0279072016196058, 1.0909818933250464]"
            ]
          },
          "execution_count": 38,
          "metadata": {},
          "output_type": "execute_result"
        }
      ],
      "source": [
        "weights"
      ]
    },
    {
      "cell_type": "code",
      "execution_count": 39,
      "metadata": {
        "colab": {
          "base_uri": "https://localhost:8080/",
          "height": 430
        },
        "id": "K5idmlmlzzNb",
        "outputId": "db536347-d0a2-4d12-bedd-2a0227f3a5be"
      },
      "outputs": [
        {
          "data": {
            "image/png": "[encoded data removed]",
            "text/plain": [
              "<Figure size 640x480 with 1 Axes>"
            ]
          },
          "metadata": {},
          "output_type": "display_data"
        }
      ],
      "source": [
        "import matplotlib.pyplot as plt\n",
        "x_interval = np.linspace(-0.05,1.05,150)\n",
        "y = decision_boundary(x_interval, weights)\n",
        "plt.scatter(X[0][0],X[0][1],color=\"blue\")\n",
        "plt.scatter(X[1][0],X[1][1],color=\"green\")\n",
        "plt.scatter(X[2][0],X[2][1],color=\"green\")\n",
        "plt.scatter(X[3][0],X[3][1],color=\"blue\")\n",
        "plt.plot(x_interval,y)\n",
        "#plt.ylim(-0.05,1.05)\n",
        "plt.show()"
      ]
    },
    {
      "cell_type": "code",
      "execution_count": 40,
      "metadata": {
        "colab": {
          "base_uri": "https://localhost:8080/"
        },
        "id": "94LvFd7Torjd",
        "outputId": "b0bd037e-6ad4-48ab-886d-eaa64c3e69e1"
      },
      "outputs": [
        {
          "name": "stdout",
          "output_type": "stream",
          "text": [
            "[0, 0]\n",
            "[0, 0]: 0\n",
            "[0, 1]\n",
            "[0, 1]: 1\n",
            "[1, 0]\n",
            "[1, 0]: 1\n",
            "[1, 1]\n",
            "[1, 1]: 1\n"
          ]
        }
      ],
      "source": [
        "for elem in X:\n",
        "  print(elem)\n",
        "  print(str(elem) + ': ' + str(perceptronModel(elem, weights, -1)) )"
      ]
    }
  ],
  "metadata": {
    "colab": {
      "provenance": []
    },
    "kernelspec": {
      "display_name": "Python 3",
      "name": "python3"
    },
    "language_info": {
      "codemirror_mode": {
        "name": "ipython",
        "version": 3
      },
      "file_extension": ".py",
      "mimetype": "text/x-python",
      "name": "python",
      "nbconvert_exporter": "python",
      "pygments_lexer": "ipython3",
      "version": "3.11.5"
    }
  },
  "nbformat": 4,
  "nbformat_minor": 0
}
